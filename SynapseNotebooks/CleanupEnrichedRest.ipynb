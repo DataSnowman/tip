{
  "nbformat": 4,
  "nbformat_minor": 2,
  "metadata": {
    "kernelspec": {
      "name": "synapse_pyspark",
      "display_name": "Synapse PySpark"
    },
    "language_info": {
      "name": "python"
    },
    "save_output": true,
    "synapse_widget": {
      "version": "0.1",
      "state": {}
    }
  },
  "cells": [
    {
      "cell_type": "code",
      "execution_count": 25,
      "outputs": [],
      "metadata": {
        "jupyter": {
          "source_hidden": false,
          "outputs_hidden": false
        },
        "nteract": {
          "transient": {
            "deleting": false
          }
        },
        "microsoft": {
          "language": "python"
        }
      },
      "source": [
        "%%pyspark\n",
        "dfd = spark.read.load('abfss://commonzone@synapsetiphackathon.dfs.core.windows.net/enricheddata/tiphack/date_dim/AutoLoader/data/', format='delta')\n",
        "dfd.printSchema()\n",
        "display(dfd.limit(10))"
      ]
    },
    {
      "cell_type": "code",
      "execution_count": 26,
      "outputs": [],
      "metadata": {
        "jupyter": {
          "source_hidden": false,
          "outputs_hidden": false
        },
        "nteract": {
          "transient": {
            "deleting": false
          }
        }
      },
      "source": [
        "from pyspark.sql.functions import to_date\n",
        "\n",
        "dfd1 = dfd.withColumn('d_date_new',to_date(dfd.d_date, 'yyyy-MM-dd'))\n",
        "dfd1.printSchema()\n",
        "display(dfd1.limit(10))"
      ]
    },
    {
      "cell_type": "code",
      "execution_count": 27,
      "outputs": [],
      "metadata": {
        "jupyter": {
          "source_hidden": false,
          "outputs_hidden": false
        },
        "nteract": {
          "transient": {
            "deleting": false
          }
        }
      },
      "source": [
        "#  Delta\n",
        "dfd1.write.format('delta')\\\n",
        ".mode('overwrite')\\\n",
        ".save('abfss://commonzone@synapsetiphackathon.dfs.core.windows.net/enricheddata/tiphackdelta/date_dim')"
      ]
    },
    {
      "cell_type": "code",
      "execution_count": 4,
      "outputs": [],
      "metadata": {
        "jupyter": {
          "source_hidden": false,
          "outputs_hidden": true
        },
        "nteract": {
          "transient": {
            "deleting": false
          }
        },
        "microsoft": {
          "language": "python"
        },
        "collapsed": false
      },
      "source": [
        "%%pyspark\n",
        "df = spark.read.load('abfss://commonzone@synapsetiphackathon.dfs.core.windows.net/enricheddata/tiphack/call_center/AutoLoader/data/', format='delta')\n",
        "df.printSchema()\n",
        "display(df.limit(10))"
      ]
    },
    {
      "cell_type": "code",
      "execution_count": 11,
      "outputs": [],
      "metadata": {
        "jupyter": {
          "source_hidden": false,
          "outputs_hidden": true
        },
        "nteract": {
          "transient": {
            "deleting": false
          }
        },
        "collapsed": false
      },
      "source": [
        "#from pyspark.sql import functions as f \n",
        "#from pyspark.sql import to_date\n",
        "from pyspark.sql.functions import to_date\n",
        "\n",
        "df1 = df.withColumn('cc_rec_start_date_new',to_date(df.cc_rec_start_date, 'yyyy-MM-dd'))\n",
        "df2 = df1.withColumn('cc_rec_end_date_new',to_date(df1.cc_rec_end_date, 'yyyy-MM-dd'))\n",
        "df2.printSchema()\n",
        "display(df2.limit(10))"
      ]
    },
    {
      "cell_type": "code",
      "execution_count": 14,
      "outputs": [],
      "metadata": {
        "jupyter": {
          "source_hidden": false,
          "outputs_hidden": false
        },
        "nteract": {
          "transient": {
            "deleting": false
          }
        }
      },
      "source": [
        "#  Delta\n",
        "df2.write.format('delta')\\\n",
        ".mode('overwrite')\\\n",
        ".save('abfss://commonzone@synapsetiphackathon.dfs.core.windows.net/enricheddata/tiphackdelta/call_center')"
      ]
    },
    {
      "cell_type": "code",
      "execution_count": 17,
      "outputs": [],
      "metadata": {
        "jupyter": {
          "source_hidden": false,
          "outputs_hidden": false
        },
        "nteract": {
          "transient": {
            "deleting": false
          }
        },
        "microsoft": {
          "language": "python"
        }
      },
      "source": [
        "%%pyspark\n",
        "df3 = spark.read.load('abfss://commonzone@synapsetiphackathon.dfs.core.windows.net/enricheddata/tiphack/catalog_returns/AutoLoader/data/', format='delta')\n",
        "df3.printSchema()\n",
        "display(df3.limit(10))"
      ]
    },
    {
      "cell_type": "code",
      "execution_count": 18,
      "outputs": [],
      "metadata": {
        "jupyter": {
          "source_hidden": false,
          "outputs_hidden": false
        },
        "nteract": {
          "transient": {
            "deleting": false
          }
        }
      },
      "source": [
        "#  Delta\n",
        "df3.write.format('delta')\\\n",
        ".mode('overwrite')\\\n",
        ".save('abfss://commonzone@synapsetiphackathon.dfs.core.windows.net/enricheddata/tiphackdelta/catalog_returns')"
      ]
    },
    {
      "cell_type": "code",
      "execution_count": 19,
      "outputs": [],
      "metadata": {
        "jupyter": {
          "source_hidden": false,
          "outputs_hidden": false
        },
        "nteract": {
          "transient": {
            "deleting": false
          }
        },
        "microsoft": {
          "language": "python"
        }
      },
      "source": [
        "%%pyspark\n",
        "df4 = spark.read.load('abfss://commonzone@synapsetiphackathon.dfs.core.windows.net/enricheddata/tiphack/customer/AutoLoader/data/', format='delta')\n",
        "df4.printSchema()\n",
        "display(df4.limit(10))"
      ]
    },
    {
      "cell_type": "code",
      "execution_count": 20,
      "outputs": [],
      "metadata": {
        "jupyter": {
          "source_hidden": false,
          "outputs_hidden": false
        },
        "nteract": {
          "transient": {
            "deleting": false
          }
        }
      },
      "source": [
        "#  Delta\n",
        "df4.write.format('delta')\\\n",
        ".mode('overwrite')\\\n",
        ".save('abfss://commonzone@synapsetiphackathon.dfs.core.windows.net/enricheddata/tiphackdelta/customer')"
      ]
    },
    {
      "cell_type": "code",
      "execution_count": 21,
      "outputs": [],
      "metadata": {
        "jupyter": {
          "source_hidden": false,
          "outputs_hidden": false
        },
        "nteract": {
          "transient": {
            "deleting": false
          }
        },
        "microsoft": {
          "language": "python"
        }
      },
      "source": [
        "%%pyspark\n",
        "df5 = spark.read.load('abfss://commonzone@synapsetiphackathon.dfs.core.windows.net/enricheddata/tiphack/customer_address/AutoLoader/data/', format='delta')\n",
        "df5.printSchema()\n",
        "display(df5.limit(10))"
      ]
    },
    {
      "cell_type": "code",
      "execution_count": 22,
      "outputs": [],
      "metadata": {
        "jupyter": {
          "source_hidden": false,
          "outputs_hidden": false
        },
        "nteract": {
          "transient": {
            "deleting": false
          }
        }
      },
      "source": [
        "#  Delta\n",
        "df5.write.format('delta')\\\n",
        ".mode('overwrite')\\\n",
        ".save('abfss://commonzone@synapsetiphackathon.dfs.core.windows.net/enricheddata/tiphackdelta/customer_address')"
      ]
    },
    {
      "cell_type": "code",
      "execution_count": 23,
      "outputs": [],
      "metadata": {
        "jupyter": {
          "source_hidden": false,
          "outputs_hidden": false
        },
        "nteract": {
          "transient": {
            "deleting": false
          }
        },
        "microsoft": {
          "language": "python"
        }
      },
      "source": [
        "%%pyspark\n",
        "df6 = spark.read.load('abfss://commonzone@synapsetiphackathon.dfs.core.windows.net/enricheddata/tiphack/customer_demographics/AutoLoader/data/', format='delta')\n",
        "df6.printSchema()\n",
        "display(df6.limit(10))"
      ]
    },
    {
      "cell_type": "code",
      "execution_count": 24,
      "outputs": [],
      "metadata": {
        "jupyter": {
          "source_hidden": false,
          "outputs_hidden": false
        },
        "nteract": {
          "transient": {
            "deleting": false
          }
        }
      },
      "source": [
        "\n",
        "\n",
        "#  Delta\n",
        "df6.write.format('delta')\\\n",
        ".mode('overwrite')\\\n",
        ".save('abfss://commonzone@synapsetiphackathon.dfs.core.windows.net/enricheddata/tiphackdelta/customer_demographics')"
      ]
    },
    {
      "cell_type": "code",
      "execution_count": 28,
      "outputs": [],
      "metadata": {
        "jupyter": {
          "source_hidden": false,
          "outputs_hidden": false
        },
        "nteract": {
          "transient": {
            "deleting": false
          }
        },
        "microsoft": {
          "language": "python"
        }
      },
      "source": [
        "%%pyspark\n",
        "df7 = spark.read.load('abfss://commonzone@synapsetiphackathon.dfs.core.windows.net/enricheddata/tiphack/inventory/AutoLoader/data/', format='delta')\n",
        "df7.printSchema()\n",
        "display(df7.limit(10))"
      ]
    },
    {
      "cell_type": "code",
      "execution_count": 29,
      "outputs": [],
      "metadata": {
        "jupyter": {
          "source_hidden": false,
          "outputs_hidden": false
        },
        "nteract": {
          "transient": {
            "deleting": false
          }
        }
      },
      "source": [
        "#  Delta\n",
        "df7.write.format('delta')\\\n",
        ".mode('overwrite')\\\n",
        ".save('abfss://commonzone@synapsetiphackathon.dfs.core.windows.net/enricheddata/tiphackdelta/inventory')"
      ]
    },
    {
      "cell_type": "code",
      "execution_count": 30,
      "outputs": [],
      "metadata": {
        "jupyter": {
          "source_hidden": false,
          "outputs_hidden": false
        },
        "nteract": {
          "transient": {
            "deleting": false
          }
        },
        "microsoft": {
          "language": "python"
        }
      },
      "source": [
        "%%pyspark\n",
        "df8 = spark.read.load('abfss://commonzone@synapsetiphackathon.dfs.core.windows.net/enricheddata/tiphack/item/AutoLoader/data/', format='delta')\n",
        "df8.printSchema()\n",
        "display(df8.limit(10))"
      ]
    },
    {
      "cell_type": "code",
      "execution_count": 31,
      "outputs": [],
      "metadata": {
        "jupyter": {
          "source_hidden": false,
          "outputs_hidden": false
        },
        "nteract": {
          "transient": {
            "deleting": false
          }
        }
      },
      "source": [
        "#  Delta\n",
        "df8.write.format('delta')\\\n",
        ".mode('overwrite')\\\n",
        ".save('abfss://commonzone@synapsetiphackathon.dfs.core.windows.net/enricheddata/tiphackdelta/item')"
      ]
    },
    {
      "cell_type": "code",
      "execution_count": 32,
      "outputs": [],
      "metadata": {
        "jupyter": {
          "source_hidden": false,
          "outputs_hidden": false
        },
        "nteract": {
          "transient": {
            "deleting": false
          }
        },
        "microsoft": {
          "language": "python"
        }
      },
      "source": [
        "%%pyspark\n",
        "df9 = spark.read.load('abfss://commonzone@synapsetiphackathon.dfs.core.windows.net/enricheddata/tiphack/promotion/AutoLoader/data/', format='delta')\n",
        "df9.printSchema()\n",
        "display(df9.limit(10))"
      ]
    },
    {
      "cell_type": "code",
      "execution_count": 33,
      "outputs": [],
      "metadata": {
        "jupyter": {
          "source_hidden": false,
          "outputs_hidden": false
        },
        "nteract": {
          "transient": {
            "deleting": false
          }
        }
      },
      "source": [
        "#  Delta\n",
        "df9.write.format('delta')\\\n",
        ".mode('overwrite')\\\n",
        ".save('abfss://commonzone@synapsetiphackathon.dfs.core.windows.net/enricheddata/tiphackdelta/promotion')"
      ]
    },
    {
      "cell_type": "code",
      "execution_count": 34,
      "outputs": [],
      "metadata": {
        "jupyter": {
          "source_hidden": false,
          "outputs_hidden": false
        },
        "nteract": {
          "transient": {
            "deleting": false
          }
        },
        "microsoft": {
          "language": "python"
        }
      },
      "source": [
        "%%pyspark\n",
        "df10 = spark.read.load('abfss://commonzone@synapsetiphackathon.dfs.core.windows.net/enricheddata/tiphack/warehouse/AutoLoader/data/', format='delta')\n",
        "df10.printSchema()\n",
        "display(df10.limit(10))"
      ]
    },
    {
      "cell_type": "code",
      "execution_count": 35,
      "outputs": [],
      "metadata": {
        "jupyter": {
          "source_hidden": false,
          "outputs_hidden": false
        },
        "nteract": {
          "transient": {
            "deleting": false
          }
        }
      },
      "source": [
        "#  Delta\n",
        "df10.write.format('delta')\\\n",
        ".mode('overwrite')\\\n",
        ".save('abfss://commonzone@synapsetiphackathon.dfs.core.windows.net/enricheddata/tiphackdelta/warehouse')"
      ]
    }
  ]
}